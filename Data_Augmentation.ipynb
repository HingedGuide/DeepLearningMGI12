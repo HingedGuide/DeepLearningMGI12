{
 "nbformat": 4,
 "nbformat_minor": 0,
 "metadata": {
  "colab": {
   "provenance": [],
   "authorship_tag": "ABX9TyOAGakAVu1Ik6gFW5vg+t5n",
   "include_colab_link": true
  },
  "kernelspec": {
   "name": "python3",
   "display_name": "Python 3 (ipykernel)",
   "language": "python"
  },
  "language_info": {
   "name": "python"
  }
 },
 "cells": [
  {
   "metadata": {},
   "cell_type": "markdown",
   "source": "## Import Libraries"
  },
  {
   "metadata": {
    "ExecuteTime": {
     "end_time": "2025-04-15T10:02:28.393857Z",
     "start_time": "2025-04-15T10:02:23.776973Z"
    }
   },
   "cell_type": "code",
   "source": [
    "import os\n",
    "import pandas as pd\n",
    "import torch\n",
    "from torchvision import transforms, datasets, models\n",
    "from torch.utils.data import DataLoader, Dataset\n",
    "from sklearn.model_selection import train_test_split\n",
    "from sklearn.metrics import f1_score, precision_score, recall_score\n"
   ],
   "outputs": [],
   "execution_count": 24
  },
  {
   "metadata": {},
   "cell_type": "markdown",
   "source": "# Load and Split Dataset"
  },
  {
   "metadata": {
    "ExecuteTime": {
     "end_time": "2025-04-15T10:02:34.222800Z",
     "start_time": "2025-04-15T10:02:34.202005Z"
    }
   },
   "cell_type": "code",
   "source": [
    "# Load the multilabel data\n",
    "data = pd.read_csv('LandUse_Multilabeled.txt', sep='\\t')\n",
    "X = data.iloc[:, 0]  # Image names\n",
    "y = data.iloc[:, 1:]  # Labels\n",
    "\n",
    "# Split into train, validation, and test sets\n",
    "# No stratification is applied because it gave a message that some classes only occur once\n",
    "X_train, X_temp, y_train, y_temp = train_test_split(X, y, test_size=0.3, random_state=42)\n",
    "X_test, X_val, y_test, y_val = train_test_split(X_temp, y_temp, test_size=0.5, random_state=42)\n"
   ],
   "outputs": [],
   "execution_count": 25
  },
  {
   "metadata": {},
   "cell_type": "markdown",
   "source": "# Define Dataset Class"
  },
  {
   "metadata": {
    "ExecuteTime": {
     "end_time": "2025-04-15T10:02:39.141244Z",
     "start_time": "2025-04-15T10:02:39.133759Z"
    }
   },
   "cell_type": "code",
   "source": [
    "class UCMercedDataset(Dataset):\n",
    "    def __init__(self, image_names, labels, image_dir, transform=None):\n",
    "        self.image_names = image_names\n",
    "        self.labels = labels\n",
    "        self.image_dir = image_dir\n",
    "        self.transform = transform\n",
    "\n",
    "    def __len__(self):\n",
    "        return len(self.image_names)\n",
    "\n",
    "    def __getitem__(self, idx):\n",
    "        # Extract the subfolder name by removing the last two characters\n",
    "        subfolder = self.image_names.iloc[idx][:-2]  # e.g., 'tenniscourt' from 'tenniscourt00'\n",
    "        img_path = os.path.join(self.image_dir, subfolder, self.image_names.iloc[idx])\n",
    "        image = datasets.folder.default_loader(img_path)  # Load image\n",
    "        label = torch.tensor(self.labels.iloc[idx].values, dtype=torch.float32)\n",
    "        if self.transform:\n",
    "            image = self.transform(image)\n",
    "        return image, label"
   ],
   "outputs": [],
   "execution_count": 26
  },
  {
   "metadata": {},
   "cell_type": "markdown",
   "source": "# Preprocess Images"
  },
  {
   "metadata": {
    "ExecuteTime": {
     "end_time": "2025-04-15T10:17:21.819037Z",
     "start_time": "2025-04-15T10:17:21.812980Z"
    }
   },
   "cell_type": "code",
   "source": [
    "transform = transforms.Compose([\n",
    "    transforms.Resize((224, 224)),\n",
    "    transforms.ToTensor(),\n",
    "    transforms.Normalize(mean=[0.485, 0.456, 0.406], std=[0.229, 0.224, 0.225])\n",
    "])\n",
    "\n",
    "train_dataset = UCMercedDataset(X_train, y_train, 'Images', transform)\n",
    "val_dataset = UCMercedDataset(X_val, y_val, 'Images', transform)\n",
    "test_dataset = UCMercedDataset(X_test, y_test, 'Images', transform)\n",
    "\n",
    "train_loader = DataLoader(train_dataset, batch_size=32, shuffle=True)\n",
    "val_loader = DataLoader(val_dataset, batch_size=32, shuffle=False)\n",
    "test_loader = DataLoader(test_dataset, batch_size=32, shuffle=False)\n"
   ],
   "outputs": [],
   "execution_count": 27
  },
  {
   "metadata": {},
   "cell_type": "markdown",
   "source": "# Load Pretrained Models"
  },
  {
   "metadata": {},
   "cell_type": "code",
   "outputs": [],
   "execution_count": null,
   "source": [
    "'''\n",
    "from timm import create_model\n",
    "\n",
    "# Load DINO v2 ResNet 50\n",
    "resnet50 = create_model('dino_resnet50', pretrained=True, num_classes=y.shape[1])\n",
    "\n",
    "# Load DINO v2 ViT-S/8\n",
    "vit_s8 = create_model('dino_vits8', pretrained=True, num_classes=y.shape[1])\n",
    "'''\n"
   ]
  },
  {
   "metadata": {},
   "cell_type": "markdown",
   "source": "# Define Training Loop"
  },
  {
   "metadata": {},
   "cell_type": "code",
   "outputs": [],
   "execution_count": null,
   "source": [
    "'''\n",
    "def train_model(model, train_loader, val_loader, num_epochs=10, lr=0.001):\n",
    "    device = torch.device('cuda' if torch.cuda.is_available() else 'cpu')\n",
    "    model = model.to(device)\n",
    "    criterion = torch.nn.BCEWithLogitsLoss()\n",
    "    optimizer = torch.optim.Adam(model.parameters(), lr=lr)\n",
    "\n",
    "    for epoch in range(num_epochs):\n",
    "        model.train()\n",
    "        train_loss = 0.0\n",
    "        for images, labels in train_loader:\n",
    "            images, labels = images.to(device), labels.to(device)\n",
    "            optimizer.zero_grad()\n",
    "            outputs = model(images)\n",
    "            loss = criterion(outputs, labels)\n",
    "            loss.backward()\n",
    "            optimizer.step()\n",
    "            train_loss += loss.item()\n",
    "\n",
    "        val_loss = 0.0\n",
    "        model.eval()\n",
    "        with torch.no_grad():\n",
    "            for images, labels in val_loader:\n",
    "                images, labels = images.to(device), labels.to(device)\n",
    "                outputs = model(images)\n",
    "                loss = criterion(outputs, labels)\n",
    "                val_loss += loss.item()\n",
    "\n",
    "        print(f\"Epoch {epoch+1}/{num_epochs}, Train Loss: {train_loss:.4f}, Val Loss: {val_loss:.4f}\")\n",
    "'''\n"
   ]
  },
  {
   "metadata": {},
   "cell_type": "markdown",
   "source": "# Train and Evaluate Models"
  },
  {
   "metadata": {},
   "cell_type": "code",
   "outputs": [],
   "execution_count": null,
   "source": [
    "'''\n",
    "# Train ResNet 50\n",
    "print(\"Training ResNet 50...\")\n",
    "train_model(resnet50, train_loader, val_loader)\n",
    "\n",
    "# Train ViT-S/8\n",
    "print(\"Training ViT-S/8...\")\n",
    "train_model(vit_s8, train_loader, val_loader)\n",
    "'''"
   ]
  },
  {
   "metadata": {},
   "cell_type": "markdown",
   "source": "# Evaluate Models"
  },
  {
   "metadata": {},
   "cell_type": "code",
   "outputs": [],
   "execution_count": null,
   "source": [
    "'''\n",
    "\n",
    "def evaluate_model(model, test_loader):\n",
    "    device = torch.device('cuda' if torch.cuda.is_available() else 'cpu')\n",
    "    model = model.to(device)\n",
    "    model.eval()\n",
    "    all_labels = []\n",
    "    all_preds = []\n",
    "\n",
    "    with torch.no_grad():\n",
    "        for images, labels in test_loader:\n",
    "            images, labels = images.to(device), labels.to(device)\n",
    "            outputs = torch.sigmoid(model(images))\n",
    "            preds = (outputs > 0.5).float()\n",
    "            all_labels.append(labels.cpu())\n",
    "            all_preds.append(preds.cpu())\n",
    "\n",
    "    all_labels = torch.cat(all_labels)\n",
    "    all_preds = torch.cat(all_preds)\n",
    "    f1 = f1_score(all_labels, all_preds, average='macro')\n",
    "    precision = precision_score(all_labels, all_preds, average='macro')\n",
    "    recall = recall_score(all_labels, all_preds, average='macro')\n",
    "    print(f\"F1 Score: {f1:.4f}, Precision: {precision:.4f}, Recall: {recall:.4f}\")\n",
    "\n",
    "# Evaluate ResNet 50\n",
    "print(\"Evaluating ResNet 50...\")\n",
    "evaluate_model(resnet50, test_loader)\n",
    "\n",
    "# Evaluate ViT-S/8\n",
    "print(\"Evaluating ViT-S/8...\")\n",
    "evaluate_model(vit_s8, test_loader)\n",
    "'''"
   ]
  }
 ]
}
