{
 "nbformat": 4,
 "nbformat_minor": 0,
 "metadata": {
  "colab": {
   "provenance": [],
   "authorship_tag": "ABX9TyOAGakAVu1Ik6gFW5vg+t5n",
   "include_colab_link": true
  },
  "kernelspec": {
   "name": "python3",
   "display_name": "Python 3 (ipykernel)",
   "language": "python"
  },
  "language_info": {
   "name": "python"
  }
 },
 "cells": [
  {
   "metadata": {},
   "cell_type": "markdown",
   "source": "## Import Libraries"
  },
  {
   "metadata": {
    "ExecuteTime": {
     "end_time": "2025-04-16T08:49:13.441679Z",
     "start_time": "2025-04-16T08:49:13.432527Z"
    }
   },
   "cell_type": "code",
   "source": [
    "import os\n",
    "import pandas as pd\n",
    "import torch\n",
    "import torch.nn as nn\n",
    "from torchvision import transforms, datasets, models\n",
    "from torch.utils.data import DataLoader, Dataset\n",
    "from sklearn.model_selection import train_test_split\n",
    "from sklearn.metrics import f1_score, precision_score, recall_score\n"
   ],
   "outputs": [],
   "execution_count": 8
  },
  {
   "metadata": {},
   "cell_type": "markdown",
   "source": "# Load and Split Dataset"
  },
  {
   "metadata": {
    "ExecuteTime": {
     "end_time": "2025-04-16T08:49:16.781007Z",
     "start_time": "2025-04-16T08:49:16.761850Z"
    }
   },
   "cell_type": "code",
   "source": [
    "# Load the multilabel data\n",
    "data = pd.read_csv('LandUse_Multilabeled.txt', sep='\\t')\n",
    "X = data.iloc[:, 0]  # Image names\n",
    "y = data.iloc[:, 1:]  # Labels\n",
    "\n",
    "# Split into train, validation, and test sets\n",
    "# No stratification is applied because it gave a message that some classes only occur once\n",
    "X_train, X_temp, y_train, y_temp = train_test_split(X, y, test_size=0.3, random_state=42)\n",
    "X_test, X_val, y_test, y_val = train_test_split(X_temp, y_temp, test_size=0.5, random_state=42)\n"
   ],
   "outputs": [],
   "execution_count": 9
  },
  {
   "metadata": {
    "ExecuteTime": {
     "end_time": "2025-04-16T08:52:29.835277Z",
     "start_time": "2025-04-16T08:52:29.822707Z"
    }
   },
   "cell_type": "code",
   "source": "num_labels = len(data.iloc[0, :])-1",
   "outputs": [],
   "execution_count": 19
  },
  {
   "metadata": {
    "ExecuteTime": {
     "end_time": "2025-04-16T08:49:18.353940Z",
     "start_time": "2025-04-16T08:49:18.334690Z"
    }
   },
   "cell_type": "code",
   "source": [
    "print(\"Train size: \", len(X_train))\n",
    "print(\"Validation size: \", len(X_val))\n",
    "print(\"Test size: \", len(X_test))"
   ],
   "outputs": [
    {
     "name": "stdout",
     "output_type": "stream",
     "text": [
      "Train size:  1470\n",
      "Validation size:  315\n",
      "Test size:  315\n"
     ]
    }
   ],
   "execution_count": 10
  },
  {
   "metadata": {},
   "cell_type": "markdown",
   "source": "# Define Dataset Class"
  },
  {
   "metadata": {
    "ExecuteTime": {
     "end_time": "2025-04-16T08:49:20.446944Z",
     "start_time": "2025-04-16T08:49:20.427039Z"
    }
   },
   "cell_type": "code",
   "source": [
    "class UCMercedDataset(Dataset):\n",
    "    def __init__(self, image_names, labels, image_dir, transform=None):\n",
    "        self.image_names = image_names\n",
    "        self.labels = labels\n",
    "        self.image_dir = image_dir\n",
    "        self.transform = transform\n",
    "\n",
    "    def __len__(self):\n",
    "        return len(self.image_names)\n",
    "\n",
    "    def __getitem__(self, idx):\n",
    "        # Extract the subfolder name by removing the last two characters\n",
    "        subfolder = self.image_names.iloc[idx][:-2]  # e.g., 'tenniscourt' from 'tenniscourt00'\n",
    "        img_path = os.path.join(self.image_dir, subfolder, self.image_names.iloc[idx])\n",
    "        image = datasets.folder.default_loader(img_path)  # Load image\n",
    "        label = torch.tensor(self.labels.iloc[idx].values, dtype=torch.float32)\n",
    "        if self.transform:\n",
    "            image = self.transform(image)\n",
    "        return image, label"
   ],
   "outputs": [],
   "execution_count": 11
  },
  {
   "metadata": {},
   "cell_type": "markdown",
   "source": "# Preprocess Images"
  },
  {
   "metadata": {
    "ExecuteTime": {
     "end_time": "2025-04-16T08:49:22.597088Z",
     "start_time": "2025-04-16T08:49:22.587338Z"
    }
   },
   "cell_type": "code",
   "source": [
    "transform = transforms.Compose([\n",
    "    transforms.Resize((224, 224)),\n",
    "    transforms.ToTensor(),\n",
    "    transforms.Normalize(mean=[0.485, 0.456, 0.406], std=[0.229, 0.224, 0.225])\n",
    "])\n",
    "\n",
    "train_dataset = UCMercedDataset(X_train, y_train, 'Images', transform)\n",
    "val_dataset = UCMercedDataset(X_val, y_val, 'Images', transform)\n",
    "test_dataset = UCMercedDataset(X_test, y_test, 'Images', transform)\n",
    "\n",
    "train_loader = DataLoader(train_dataset, batch_size=32, shuffle=True)\n",
    "val_loader = DataLoader(val_dataset, batch_size=32, shuffle=False)\n",
    "test_loader = DataLoader(test_dataset, batch_size=32, shuffle=False)\n"
   ],
   "outputs": [],
   "execution_count": 12
  },
  {
   "metadata": {},
   "cell_type": "markdown",
   "source": "# Load and Adjust Pretrained Models"
  },
  {
   "metadata": {
    "ExecuteTime": {
     "end_time": "2025-04-16T09:09:55.384653Z",
     "start_time": "2025-04-16T09:09:54.908442Z"
    }
   },
   "cell_type": "code",
   "source": [
    "# Load DINO v2 ResNet 50\n",
    "resnet50 = torch.hub.load('facebookresearch/dino:main', 'dino_resnet50')\n",
    "\n",
    "# Load DINO v2 ViT-S/8\n",
    "vits8 = torch.hub.load('facebookresearch/dino:main', 'dino_vits8')"
   ],
   "outputs": [
    {
     "name": "stderr",
     "output_type": "stream",
     "text": [
      "Using cache found in C:\\Users\\tiesk/.cache\\torch\\hub\\facebookresearch_dino_main\n",
      "C:\\Users\\tiesk\\PycharmProjects\\DeepLearningMGI12\\.venv\\Lib\\site-packages\\torchvision\\models\\_utils.py:208: UserWarning: The parameter 'pretrained' is deprecated since 0.13 and may be removed in the future, please use 'weights' instead.\n",
      "  warnings.warn(\n",
      "C:\\Users\\tiesk\\PycharmProjects\\DeepLearningMGI12\\.venv\\Lib\\site-packages\\torchvision\\models\\_utils.py:223: UserWarning: Arguments other than a weight enum or `None` for 'weights' are deprecated since 0.13 and may be removed in the future. The current behavior is equivalent to passing `weights=None`.\n",
      "  warnings.warn(msg)\n"
     ]
    },
    {
     "ename": "AttributeError",
     "evalue": "'Identity' object has no attribute 'in_features'",
     "output_type": "error",
     "traceback": [
      "\u001B[31m---------------------------------------------------------------------------\u001B[39m",
      "\u001B[31mAttributeError\u001B[39m                            Traceback (most recent call last)",
      "\u001B[36mCell\u001B[39m\u001B[36m \u001B[39m\u001B[32mIn[23]\u001B[39m\u001B[32m, line 4\u001B[39m\n\u001B[32m      2\u001B[39m resnet50 = torch.hub.load(\u001B[33m'\u001B[39m\u001B[33mfacebookresearch/dino:main\u001B[39m\u001B[33m'\u001B[39m, \u001B[33m'\u001B[39m\u001B[33mdino_resnet50\u001B[39m\u001B[33m'\u001B[39m)\n\u001B[32m      3\u001B[39m \u001B[38;5;66;03m# Extract the number of input features from the penultimate layer\u001B[39;00m\n\u001B[32m----> \u001B[39m\u001B[32m4\u001B[39m num_features_resnet = \u001B[43mresnet50\u001B[49m\u001B[43m.\u001B[49m\u001B[43mget_submodule\u001B[49m\u001B[43m(\u001B[49m\u001B[33;43m'\u001B[39;49m\u001B[33;43mfc\u001B[39;49m\u001B[33;43m'\u001B[39;49m\u001B[43m)\u001B[49m\u001B[43m.\u001B[49m\u001B[43min_features\u001B[49m\n\u001B[32m      5\u001B[39m \u001B[38;5;66;03m# Replace the fc layer with a new one for multilabel classification\u001B[39;00m\n\u001B[32m      6\u001B[39m resnet50.fc = nn.Linear(num_features_resnet, num_labels)\n",
      "\u001B[36mFile \u001B[39m\u001B[32m~\\PycharmProjects\\DeepLearningMGI12\\.venv\\Lib\\site-packages\\torch\\nn\\modules\\module.py:1928\u001B[39m, in \u001B[36mModule.__getattr__\u001B[39m\u001B[34m(self, name)\u001B[39m\n\u001B[32m   1926\u001B[39m     \u001B[38;5;28;01mif\u001B[39;00m name \u001B[38;5;129;01min\u001B[39;00m modules:\n\u001B[32m   1927\u001B[39m         \u001B[38;5;28;01mreturn\u001B[39;00m modules[name]\n\u001B[32m-> \u001B[39m\u001B[32m1928\u001B[39m \u001B[38;5;28;01mraise\u001B[39;00m \u001B[38;5;167;01mAttributeError\u001B[39;00m(\n\u001B[32m   1929\u001B[39m     \u001B[33mf\u001B[39m\u001B[33m\"\u001B[39m\u001B[33m'\u001B[39m\u001B[38;5;132;01m{\u001B[39;00m\u001B[38;5;28mtype\u001B[39m(\u001B[38;5;28mself\u001B[39m).\u001B[34m__name__\u001B[39m\u001B[38;5;132;01m}\u001B[39;00m\u001B[33m'\u001B[39m\u001B[33m object has no attribute \u001B[39m\u001B[33m'\u001B[39m\u001B[38;5;132;01m{\u001B[39;00mname\u001B[38;5;132;01m}\u001B[39;00m\u001B[33m'\u001B[39m\u001B[33m\"\u001B[39m\n\u001B[32m   1930\u001B[39m )\n",
      "\u001B[31mAttributeError\u001B[39m: 'Identity' object has no attribute 'in_features'"
     ]
    }
   ],
   "execution_count": 23
  },
  {
   "metadata": {
    "ExecuteTime": {
     "end_time": "2025-04-16T09:24:09.276169Z",
     "start_time": "2025-04-16T09:24:09.258972Z"
    }
   },
   "cell_type": "code",
   "source": [
    "# Change the Dino model to multi-label classification\n",
    "class DinoResNetMultiLabel(nn.Module):\n",
    "    def __init__(self, base_model, num_labels):\n",
    "        super().__init__()\n",
    "        self.backbone = nn.Sequential(*list(base_model.children())[:-1])  # remove final classification layer\n",
    "        self.classifier = nn.Linear(2048, num_labels)  # 2048 is the output feature dim of ResNet50\n",
    "\n",
    "    def forward(self, x):\n",
    "        x = self.backbone(x)\n",
    "        x = torch.flatten(x, 1)\n",
    "        x = self.classifier(x)\n",
    "        return x"
   ],
   "outputs": [],
   "execution_count": 25
  },
  {
   "metadata": {
    "ExecuteTime": {
     "end_time": "2025-04-16T09:24:11.605969Z",
     "start_time": "2025-04-16T09:24:11.598965Z"
    }
   },
   "cell_type": "code",
   "source": [
    "# Change the ViT model to multi-label classification\n",
    "class DinoViTMultiLabel(nn.Module):\n",
    "    def __init__(self, base_model, num_labels):\n",
    "        super().__init__()\n",
    "        self.backbone = base_model\n",
    "        self.classifier = nn.Linear(base_model.embed_dim, num_labels)  # embed_dim is the output feature dim of ViT-S/8\n",
    "\n",
    "    def forward(self, x):\n",
    "        features = self.backbone(x)\n",
    "        return self.classifier(features)"
   ],
   "outputs": [],
   "execution_count": 26
  },
  {
   "metadata": {},
   "cell_type": "markdown",
   "source": "# Define Training Loop"
  },
  {
   "metadata": {},
   "cell_type": "code",
   "outputs": [],
   "execution_count": null,
   "source": [
    "'''\n",
    "def train_model(model, train_loader, val_loader, num_epochs=10, lr=0.001):\n",
    "    device = torch.device('cuda' if torch.cuda.is_available() else 'cpu')\n",
    "    model = model.to(device)\n",
    "    criterion = torch.nn.BCEWithLogitsLoss()\n",
    "    optimizer = torch.optim.Adam(model.parameters(), lr=lr)\n",
    "\n",
    "    for epoch in range(num_epochs):\n",
    "        model.train()\n",
    "        train_loss = 0.0\n",
    "        for images, labels in train_loader:\n",
    "            images, labels = images.to(device), labels.to(device)\n",
    "            optimizer.zero_grad()\n",
    "            outputs = model(images)\n",
    "            loss = criterion(outputs, labels)\n",
    "            loss.backward()\n",
    "            optimizer.step()\n",
    "            train_loss += loss.item()\n",
    "\n",
    "        val_loss = 0.0\n",
    "        model.eval()\n",
    "        with torch.no_grad():\n",
    "            for images, labels in val_loader:\n",
    "                images, labels = images.to(device), labels.to(device)\n",
    "                outputs = model(images)\n",
    "                loss = criterion(outputs, labels)\n",
    "                val_loss += loss.item()\n",
    "\n",
    "        print(f\"Epoch {epoch+1}/{num_epochs}, Train Loss: {train_loss:.4f}, Val Loss: {val_loss:.4f}\")\n",
    "'''\n"
   ]
  },
  {
   "metadata": {},
   "cell_type": "markdown",
   "source": "# Train and Evaluate Models"
  },
  {
   "metadata": {},
   "cell_type": "code",
   "outputs": [],
   "execution_count": null,
   "source": [
    "'''\n",
    "# Train ResNet 50\n",
    "print(\"Training ResNet 50...\")\n",
    "train_model(resnet50, train_loader, val_loader)\n",
    "\n",
    "# Train ViT-S/8\n",
    "print(\"Training ViT-S/8...\")\n",
    "train_model(vit_s8, train_loader, val_loader)\n",
    "'''"
   ]
  },
  {
   "metadata": {},
   "cell_type": "markdown",
   "source": "# Evaluate Models"
  },
  {
   "metadata": {},
   "cell_type": "code",
   "outputs": [],
   "execution_count": null,
   "source": [
    "'''\n",
    "\n",
    "def evaluate_model(model, test_loader):\n",
    "    device = torch.device('cuda' if torch.cuda.is_available() else 'cpu')\n",
    "    model = model.to(device)\n",
    "    model.eval()\n",
    "    all_labels = []\n",
    "    all_preds = []\n",
    "\n",
    "    with torch.no_grad():\n",
    "        for images, labels in test_loader:\n",
    "            images, labels = images.to(device), labels.to(device)\n",
    "            outputs = torch.sigmoid(model(images))\n",
    "            preds = (outputs > 0.5).float()\n",
    "            all_labels.append(labels.cpu())\n",
    "            all_preds.append(preds.cpu())\n",
    "\n",
    "    all_labels = torch.cat(all_labels)\n",
    "    all_preds = torch.cat(all_preds)\n",
    "    f1 = f1_score(all_labels, all_preds, average='macro')\n",
    "    precision = precision_score(all_labels, all_preds, average='macro')\n",
    "    recall = recall_score(all_labels, all_preds, average='macro')\n",
    "    print(f\"F1 Score: {f1:.4f}, Precision: {precision:.4f}, Recall: {recall:.4f}\")\n",
    "\n",
    "# Evaluate ResNet 50\n",
    "print(\"Evaluating ResNet 50...\")\n",
    "evaluate_model(resnet50, test_loader)\n",
    "\n",
    "# Evaluate ViT-S/8\n",
    "print(\"Evaluating ViT-S/8...\")\n",
    "evaluate_model(vit_s8, test_loader)\n",
    "'''"
   ]
  }
 ]
}
