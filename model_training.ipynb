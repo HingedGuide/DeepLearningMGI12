{
 "nbformat": 4,
 "nbformat_minor": 0,
 "metadata": {
  "colab": {
   "provenance": [],
   "authorship_tag": "ABX9TyOAGakAVu1Ik6gFW5vg+t5n",
   "include_colab_link": true
  },
  "kernelspec": {
   "name": "python3",
   "display_name": "Python 3 (ipykernel)",
   "language": "python"
  },
  "language_info": {
   "name": "python"
  }
 },
 "cells": [
  {
   "metadata": {},
   "cell_type": "markdown",
   "source": "## Import Libraries"
  },
  {
   "metadata": {
    "ExecuteTime": {
     "end_time": "2025-04-17T09:14:41.713923Z",
     "start_time": "2025-04-17T09:14:35.196360Z"
    }
   },
   "cell_type": "code",
   "source": [
    "import os\n",
    "import pandas as pd\n",
    "import torch\n",
    "import torch.nn as nn\n",
    "from torchvision import transforms, datasets, models\n",
    "from torch.utils.data import DataLoader, Dataset\n",
    "from sklearn.model_selection import train_test_split\n",
    "from sklearn.metrics import f1_score, precision_score, recall_score\n"
   ],
   "outputs": [],
   "execution_count": 1
  },
  {
   "metadata": {},
   "cell_type": "markdown",
   "source": "# Load and Split Dataset"
  },
  {
   "metadata": {
    "ExecuteTime": {
     "end_time": "2025-04-17T09:14:43.487957Z",
     "start_time": "2025-04-17T09:14:43.479838Z"
    }
   },
   "cell_type": "code",
   "source": [
    "# Set device\n",
    "device = torch.device(\"cuda\")"
   ],
   "outputs": [],
   "execution_count": 2
  },
  {
   "metadata": {
    "ExecuteTime": {
     "end_time": "2025-04-17T09:14:44.607009Z",
     "start_time": "2025-04-17T09:14:44.580568Z"
    }
   },
   "cell_type": "code",
   "source": [
    "# Load the multilabel data\n",
    "data = pd.read_csv('LandUse_Multilabeled.txt', sep='\\t')\n",
    "X = data.iloc[:, 0]  # Image names\n",
    "y = data.iloc[:, 1:]  # Labels\n",
    "\n",
    "# Split into train, validation, and test sets\n",
    "# No stratification is applied because it gave a message that some classes only occur once\n",
    "X_train, X_temp, y_train, y_temp = train_test_split(X, y, test_size=0.3, random_state=42)\n",
    "X_test, X_val, y_test, y_val = train_test_split(X_temp, y_temp, test_size=0.5, random_state=42)\n"
   ],
   "outputs": [],
   "execution_count": 3
  },
  {
   "metadata": {
    "ExecuteTime": {
     "end_time": "2025-04-17T09:14:46.944195Z",
     "start_time": "2025-04-17T09:14:46.939703Z"
    }
   },
   "cell_type": "code",
   "source": "num_labels = len(data.iloc[0, :])-1",
   "outputs": [],
   "execution_count": 4
  },
  {
   "metadata": {
    "ExecuteTime": {
     "end_time": "2025-04-17T09:14:48.755726Z",
     "start_time": "2025-04-17T09:14:48.746112Z"
    }
   },
   "cell_type": "code",
   "source": [
    "print(\"Train size: \", len(X_train))\n",
    "print(\"Validation size: \", len(X_val))\n",
    "print(\"Test size: \", len(X_test))"
   ],
   "outputs": [
    {
     "name": "stdout",
     "output_type": "stream",
     "text": [
      "Train size:  1470\n",
      "Validation size:  315\n",
      "Test size:  315\n"
     ]
    }
   ],
   "execution_count": 5
  },
  {
   "metadata": {},
   "cell_type": "markdown",
   "source": "# Define Dataset Class"
  },
  {
   "metadata": {
    "ExecuteTime": {
     "end_time": "2025-04-17T09:14:50.879010Z",
     "start_time": "2025-04-17T09:14:50.872764Z"
    }
   },
   "cell_type": "code",
   "source": [
    "class UCMercedDataset(Dataset):\n",
    "    def __init__(self, image_names, labels, image_dir, transform=None):\n",
    "        self.image_names = image_names\n",
    "        self.labels = labels\n",
    "        self.image_dir = image_dir\n",
    "        self.transform = transform\n",
    "\n",
    "    def __len__(self):\n",
    "        return len(self.image_names)\n",
    "\n",
    "    def __getitem__(self, idx):\n",
    "        base_filename = self.image_names.iloc[idx]\n",
    "        subfolder = base_filename[:-2]     # 'airplane22' -> 'airplane'\n",
    "\n",
    "        img_path = os.path.join(\"Images\", subfolder, f\"{base_filename}.tif\")\n",
    "\n",
    "        if not os.path.exists(img_path):\n",
    "            raise FileNotFoundError(f\"Image not found at: {img_path}\")\n",
    "\n",
    "        image = datasets.folder.default_loader(img_path)\n",
    "        label = torch.tensor(self.labels.iloc[idx].values, dtype=torch.float32)\n",
    "\n",
    "        if self.transform:\n",
    "            image = self.transform(image)\n",
    "\n",
    "        return image, label\n"
   ],
   "outputs": [],
   "execution_count": 6
  },
  {
   "metadata": {},
   "cell_type": "markdown",
   "source": "# Preprocess Images"
  },
  {
   "metadata": {
    "ExecuteTime": {
     "end_time": "2025-04-17T09:14:52.826936Z",
     "start_time": "2025-04-17T09:14:52.820023Z"
    }
   },
   "cell_type": "code",
   "source": [
    "transform = transforms.Compose([\n",
    "    transforms.Resize((224, 224)),\n",
    "    transforms.ToTensor(),\n",
    "    transforms.Normalize(mean=[0.485, 0.456, 0.406], std=[0.229, 0.224, 0.225])\n",
    "])\n",
    "\n",
    "train_dataset = UCMercedDataset(X_train, y_train, 'Images', transform)\n",
    "val_dataset = UCMercedDataset(X_val, y_val, 'Images', transform)\n",
    "test_dataset = UCMercedDataset(X_test, y_test, 'Images', transform)\n",
    "\n",
    "train_loader = DataLoader(train_dataset, batch_size=16, shuffle=True)\n",
    "val_loader = DataLoader(val_dataset, batch_size=16, shuffle=False)\n",
    "test_loader = DataLoader(test_dataset, batch_size=16, shuffle=False)\n"
   ],
   "outputs": [],
   "execution_count": 7
  },
  {
   "metadata": {},
   "cell_type": "markdown",
   "source": "# Load and Adjust Pretrained Models"
  },
  {
   "metadata": {
    "ExecuteTime": {
     "end_time": "2025-04-17T09:14:55.816204Z",
     "start_time": "2025-04-17T09:14:54.696291Z"
    }
   },
   "cell_type": "code",
   "source": [
    "# Load DINO v2 ResNet 50\n",
    "resnet50 = torch.hub.load('facebookresearch/dino:main', 'dino_resnet50')\n",
    "\n",
    "# Load DINO v2 ViT-S/8\n",
    "vits8 = torch.hub.load('facebookresearch/dino:main', 'dino_vits8')"
   ],
   "outputs": [
    {
     "name": "stderr",
     "output_type": "stream",
     "text": [
      "Using cache found in C:\\Users\\tiesk/.cache\\torch\\hub\\facebookresearch_dino_main\n",
      "C:\\Users\\tiesk\\PycharmProjects\\DeepLearningMGI12\\.venv\\Lib\\site-packages\\torchvision\\models\\_utils.py:208: UserWarning: The parameter 'pretrained' is deprecated since 0.13 and may be removed in the future, please use 'weights' instead.\n",
      "  warnings.warn(\n",
      "C:\\Users\\tiesk\\PycharmProjects\\DeepLearningMGI12\\.venv\\Lib\\site-packages\\torchvision\\models\\_utils.py:223: UserWarning: Arguments other than a weight enum or `None` for 'weights' are deprecated since 0.13 and may be removed in the future. The current behavior is equivalent to passing `weights=None`.\n",
      "  warnings.warn(msg)\n",
      "Using cache found in C:\\Users\\tiesk/.cache\\torch\\hub\\facebookresearch_dino_main\n"
     ]
    }
   ],
   "execution_count": 8
  },
  {
   "metadata": {
    "ExecuteTime": {
     "end_time": "2025-04-17T09:14:57.328281Z",
     "start_time": "2025-04-17T09:14:57.318955Z"
    }
   },
   "cell_type": "code",
   "source": [
    "# Change the Dino model to multi-label classification\n",
    "class DinoResNetMultiLabel(nn.Module):\n",
    "    def __init__(self, base_model, num_labels):\n",
    "        super().__init__()\n",
    "        self.backbone = nn.Sequential(*list(base_model.children())[:-1])  # remove final classification layer\n",
    "        self.classifier = nn.Linear(2048, num_labels)  # 2048 is the output feature dim of ResNet50\n",
    "\n",
    "    def forward(self, x):\n",
    "        x = self.backbone(x)\n",
    "        x = torch.flatten(x, 1)\n",
    "        x = self.classifier(x)\n",
    "        return x"
   ],
   "outputs": [],
   "execution_count": 9
  },
  {
   "metadata": {
    "ExecuteTime": {
     "end_time": "2025-04-17T09:15:01.863501Z",
     "start_time": "2025-04-17T09:15:01.851591Z"
    }
   },
   "cell_type": "code",
   "source": [
    "# Change the ViT model to multi-label classification\n",
    "class DinoViTMultiLabel(nn.Module):\n",
    "    def __init__(self, base_model, num_labels):\n",
    "        super().__init__()\n",
    "        self.backbone = base_model\n",
    "        self.classifier = nn.Linear(base_model.embed_dim, num_labels)  # embed_dim is the output feature dim of ViT-S/8\n",
    "\n",
    "    def forward(self, x):\n",
    "        features = self.backbone(x)\n",
    "        return self.classifier(features)"
   ],
   "outputs": [],
   "execution_count": 10
  },
  {
   "metadata": {},
   "cell_type": "markdown",
   "source": "## Prepare for training"
  },
  {
   "metadata": {
    "ExecuteTime": {
     "end_time": "2025-04-17T09:15:04.335712Z",
     "start_time": "2025-04-17T09:15:04.055913Z"
    }
   },
   "cell_type": "code",
   "source": [
    "# Model setup\n",
    "resnet_model = DinoResNetMultiLabel(resnet50, num_labels).to(device)\n",
    "vits_model = DinoViTMultiLabel(vits8, num_labels).to(device)\n",
    "\n",
    "# Loss and optimizers\n",
    "criterion = nn.BCEWithLogitsLoss()\n",
    "resnet_optimizer = torch.optim.Adam(resnet_model.parameters(), lr=1e-4)\n",
    "vits_optimizer = torch.optim.Adam(vits_model.parameters(), lr=1e-4)"
   ],
   "outputs": [],
   "execution_count": 11
  },
  {
   "metadata": {},
   "cell_type": "markdown",
   "source": "# Define Training Loop"
  },
  {
   "metadata": {
    "ExecuteTime": {
     "end_time": "2025-04-17T09:15:05.990308Z",
     "start_time": "2025-04-17T09:15:05.979084Z"
    }
   },
   "cell_type": "code",
   "source": [
    "# Training function\n",
    "def train_model(model, optimizer, name):\n",
    "    for epoch in range(20):\n",
    "        model.train()\n",
    "        total_loss = 0\n",
    "\n",
    "        for images, labels in train_loader:\n",
    "            images, labels = images.to(device), labels.to(device)\n",
    "\n",
    "            optimizer.zero_grad()\n",
    "            outputs = model(images)\n",
    "            loss = criterion(outputs, labels)\n",
    "            loss.backward()\n",
    "            optimizer.step()\n",
    "\n",
    "            total_loss += loss.item()\n",
    "\n",
    "        avg_loss = total_loss / len(train_loader)\n",
    "        print(f\"[{name}] Epoch {epoch+1}: Train Loss = {avg_loss:.4f}\")\n",
    "\n",
    "        validate_model(model, name)\n",
    "\n",
    "# Validation function\n",
    "def validate_model(model, name):\n",
    "    model.eval()\n",
    "    all_preds = []\n",
    "    all_targets = []\n",
    "\n",
    "    with torch.no_grad():\n",
    "        for images, labels in val_loader:\n",
    "            images, labels = images.to(device), labels.to(device)\n",
    "            outputs = torch.sigmoid(model(images))\n",
    "            preds = (outputs > 0.5).int()\n",
    "\n",
    "            all_preds.append(preds.cpu())\n",
    "            all_targets.append(labels.cpu().int())\n",
    "\n",
    "    preds = torch.cat(all_preds)\n",
    "    targets = torch.cat(all_targets)\n",
    "\n",
    "    f1 = f1_score(targets, preds, average=\"macro\", zero_division=0)\n",
    "    print(f\"[{name}] Validation F1 score: {f1:.4f}\\n\")"
   ],
   "outputs": [],
   "execution_count": 12
  },
  {
   "metadata": {},
   "cell_type": "markdown",
   "source": "# Train and Evaluate Models"
  },
  {
   "metadata": {
    "ExecuteTime": {
     "end_time": "2025-04-17T09:31:02.462106Z",
     "start_time": "2025-04-17T09:15:09.101395Z"
    }
   },
   "cell_type": "code",
   "source": [
    "# Train ResNet 50\n",
    "print(\"Training ResNet 50...\")\n",
    "train_model(resnet_model, resnet_optimizer, name=\"ResNet50\")"
   ],
   "outputs": [
    {
     "name": "stdout",
     "output_type": "stream",
     "text": [
      "Training ResNet 50...\n",
      "[ResNet50] Epoch 1: Train Loss = 0.4551\n",
      "[ResNet50] Validation F1 score: 0.3232\n",
      "\n",
      "[ResNet50] Epoch 2: Train Loss = 0.2482\n",
      "[ResNet50] Validation F1 score: 0.5990\n",
      "\n",
      "[ResNet50] Epoch 3: Train Loss = 0.1794\n",
      "[ResNet50] Validation F1 score: 0.7923\n",
      "\n",
      "[ResNet50] Epoch 4: Train Loss = 0.1469\n",
      "[ResNet50] Validation F1 score: 0.8876\n",
      "\n",
      "[ResNet50] Epoch 5: Train Loss = 0.1292\n",
      "[ResNet50] Validation F1 score: 0.9119\n",
      "\n",
      "[ResNet50] Epoch 6: Train Loss = 0.1050\n",
      "[ResNet50] Validation F1 score: 0.9289\n",
      "\n",
      "[ResNet50] Epoch 7: Train Loss = 0.0922\n",
      "[ResNet50] Validation F1 score: 0.9353\n",
      "\n",
      "[ResNet50] Epoch 8: Train Loss = 0.0810\n",
      "[ResNet50] Validation F1 score: 0.9339\n",
      "\n",
      "[ResNet50] Epoch 9: Train Loss = 0.0717\n",
      "[ResNet50] Validation F1 score: 0.9384\n",
      "\n",
      "[ResNet50] Epoch 10: Train Loss = 0.0632\n",
      "[ResNet50] Validation F1 score: 0.9426\n",
      "\n",
      "[ResNet50] Epoch 11: Train Loss = 0.0524\n",
      "[ResNet50] Validation F1 score: 0.9378\n",
      "\n",
      "[ResNet50] Epoch 12: Train Loss = 0.0450\n",
      "[ResNet50] Validation F1 score: 0.9360\n",
      "\n",
      "[ResNet50] Epoch 13: Train Loss = 0.0391\n",
      "[ResNet50] Validation F1 score: 0.9366\n",
      "\n",
      "[ResNet50] Epoch 14: Train Loss = 0.0348\n",
      "[ResNet50] Validation F1 score: 0.9349\n",
      "\n",
      "[ResNet50] Epoch 15: Train Loss = 0.0338\n",
      "[ResNet50] Validation F1 score: 0.9367\n",
      "\n",
      "[ResNet50] Epoch 16: Train Loss = 0.0276\n",
      "[ResNet50] Validation F1 score: 0.9411\n",
      "\n",
      "[ResNet50] Epoch 17: Train Loss = 0.0264\n",
      "[ResNet50] Validation F1 score: 0.9425\n",
      "\n",
      "[ResNet50] Epoch 18: Train Loss = 0.0229\n",
      "[ResNet50] Validation F1 score: 0.9391\n",
      "\n",
      "[ResNet50] Epoch 19: Train Loss = 0.0197\n",
      "[ResNet50] Validation F1 score: 0.9400\n",
      "\n",
      "[ResNet50] Epoch 20: Train Loss = 0.0210\n",
      "[ResNet50] Validation F1 score: 0.9439\n",
      "\n"
     ]
    }
   ],
   "execution_count": 13
  },
  {
   "metadata": {
    "ExecuteTime": {
     "end_time": "2025-04-17T10:11:42.127076Z",
     "start_time": "2025-04-17T09:32:44.422385Z"
    }
   },
   "cell_type": "code",
   "source": [
    "# Train ViT-S/8\n",
    "print(\"Training ViT-S/8...\")\n",
    "train_model(vits_model, vits_optimizer, name=\"ViT-S/8\")"
   ],
   "outputs": [
    {
     "name": "stdout",
     "output_type": "stream",
     "text": [
      "Training ViT-S/8...\n",
      "[ViT-S/8] Epoch 1: Train Loss = 0.1867\n",
      "[ViT-S/8] Validation F1 score: 0.9240\n",
      "\n",
      "[ViT-S/8] Epoch 2: Train Loss = 0.0687\n",
      "[ViT-S/8] Validation F1 score: 0.9403\n",
      "\n"
     ]
    },
    {
     "ename": "KeyboardInterrupt",
     "evalue": "",
     "output_type": "error",
     "traceback": [
      "\u001B[31m---------------------------------------------------------------------------\u001B[39m",
      "\u001B[31mKeyboardInterrupt\u001B[39m                         Traceback (most recent call last)",
      "\u001B[36mCell\u001B[39m\u001B[36m \u001B[39m\u001B[32mIn[14]\u001B[39m\u001B[32m, line 3\u001B[39m\n\u001B[32m      1\u001B[39m \u001B[38;5;66;03m# Train ViT-S/8\u001B[39;00m\n\u001B[32m      2\u001B[39m \u001B[38;5;28mprint\u001B[39m(\u001B[33m\"\u001B[39m\u001B[33mTraining ViT-S/8...\u001B[39m\u001B[33m\"\u001B[39m)\n\u001B[32m----> \u001B[39m\u001B[32m3\u001B[39m \u001B[43mtrain_model\u001B[49m\u001B[43m(\u001B[49m\u001B[43mvits_model\u001B[49m\u001B[43m,\u001B[49m\u001B[43m \u001B[49m\u001B[43mvits_optimizer\u001B[49m\u001B[43m,\u001B[49m\u001B[43m \u001B[49m\u001B[43mname\u001B[49m\u001B[43m=\u001B[49m\u001B[33;43m\"\u001B[39;49m\u001B[33;43mViT-S/8\u001B[39;49m\u001B[33;43m\"\u001B[39;49m\u001B[43m)\u001B[49m\n",
      "\u001B[36mCell\u001B[39m\u001B[36m \u001B[39m\u001B[32mIn[12]\u001B[39m\u001B[32m, line 16\u001B[39m, in \u001B[36mtrain_model\u001B[39m\u001B[34m(model, optimizer, name)\u001B[39m\n\u001B[32m     13\u001B[39m     loss.backward()\n\u001B[32m     14\u001B[39m     optimizer.step()\n\u001B[32m---> \u001B[39m\u001B[32m16\u001B[39m     total_loss += \u001B[43mloss\u001B[49m\u001B[43m.\u001B[49m\u001B[43mitem\u001B[49m\u001B[43m(\u001B[49m\u001B[43m)\u001B[49m\n\u001B[32m     18\u001B[39m avg_loss = total_loss / \u001B[38;5;28mlen\u001B[39m(train_loader)\n\u001B[32m     19\u001B[39m \u001B[38;5;28mprint\u001B[39m(\u001B[33mf\u001B[39m\u001B[33m\"\u001B[39m\u001B[33m[\u001B[39m\u001B[38;5;132;01m{\u001B[39;00mname\u001B[38;5;132;01m}\u001B[39;00m\u001B[33m] Epoch \u001B[39m\u001B[38;5;132;01m{\u001B[39;00mepoch+\u001B[32m1\u001B[39m\u001B[38;5;132;01m}\u001B[39;00m\u001B[33m: Train Loss = \u001B[39m\u001B[38;5;132;01m{\u001B[39;00mavg_loss\u001B[38;5;132;01m:\u001B[39;00m\u001B[33m.4f\u001B[39m\u001B[38;5;132;01m}\u001B[39;00m\u001B[33m\"\u001B[39m)\n",
      "\u001B[31mKeyboardInterrupt\u001B[39m: "
     ]
    }
   ],
   "execution_count": 14
  },
  {
   "metadata": {},
   "cell_type": "code",
   "outputs": [],
   "execution_count": null,
   "source": [
    "torch.save(resnet_model.state_dict(), \"resnet50_trained.pth\")\n",
    "torch.save(vits_model.state_dict(), \"vit_s8_trained.pth\")\n"
   ]
  }
 ]
}
