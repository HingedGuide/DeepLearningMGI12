{
 "nbformat": 4,
 "nbformat_minor": 0,
 "metadata": {
  "colab": {
   "provenance": [],
   "authorship_tag": "ABX9TyOAGakAVu1Ik6gFW5vg+t5n",
   "include_colab_link": true
  },
  "kernelspec": {
   "name": "python3",
   "display_name": "Python 3 (ipykernel)",
   "language": "python"
  },
  "language_info": {
   "name": "python"
  }
 },
 "cells": [
  {
   "metadata": {},
   "cell_type": "markdown",
   "source": "## Import Libraries"
  },
  {
   "metadata": {},
   "cell_type": "code",
   "source": [
    "import zipfile\n",
    "import os\n",
    "import pandas as pd\n",
    "import torch\n",
    "import torch.nn as nn\n",
    "from torchvision import transforms, datasets\n",
    "from torch.utils.data import DataLoader, Dataset\n",
    "from sklearn.model_selection import train_test_split\n",
    "from sklearn.metrics import f1_score, precision_score, recall_score, accuracy_score, hamming_loss\n",
    "import matplotlib.pyplot as plt\n",
    "import random\n",
    "import wandb"
   ],
   "outputs": [],
   "execution_count": null
  },
  {
   "metadata": {},
   "cell_type": "markdown",
   "source": "# Load and Split Dataset"
  },
  {
   "metadata": {},
   "cell_type": "code",
   "outputs": [],
   "execution_count": null,
   "source": [
    "# Download the images (only works when running the code on Google Colab)\n",
    "# If the code is executed another interpreter (i.e. Pycharm) the Images need to be manually downloaded and placed in the root of the project.\n",
    "\n",
    "! git clone https://git.wur.nl/lobry001/ucmdata.git\n",
    "os.chdir('ucmdata')\n",
    "\n",
    "with zipfile.ZipFile('UCMerced_LandUse.zip', 'r') as zip_ref:\n",
    "    zip_ref.extractall('UCMImages')\n",
    "\n",
    "!mv UCMImages/UCMerced_LandUse/Images .\n",
    "!rm -rf UCMImages README.md  UCMerced_LandUse.zip\n",
    "!ls\n",
    "\n",
    "UCM_images_path = \"Images/\"\n",
    "Multilabels_path = \"LandUse_Multilabeled.txt\""
   ]
  },
  {
   "metadata": {},
   "cell_type": "code",
   "source": [
    "# Set device\n",
    "device = torch.device(\"cuda\")"
   ],
   "outputs": [],
   "execution_count": null
  },
  {
   "metadata": {},
   "cell_type": "code",
   "source": [
    "run = wandb.init(\n",
    "    # Set the wandb entity where your project will be logged (generally your team name).\n",
    "    entity=\"tieskuijpers01-wageningen-university\",\n",
    "    # Set the wandb project where this run will be logged.\n",
    "    project=\"resnet50_vs_vits8\",\n",
    ")"
   ],
   "outputs": [],
   "execution_count": null
  },
  {
   "metadata": {},
   "cell_type": "code",
   "source": [
    "# Load the multilabel data\n",
    "data = pd.read_csv('LandUse_Multilabeled.txt', sep='\\t')\n",
    "X = data.iloc[:, 0]  # Image names\n",
    "y = data.iloc[:, 1:]  # Labels\n",
    "\n",
    "# Split into train, validation, and test sets\n",
    "X_train, X_temp, y_train, y_temp = train_test_split(X, y, test_size=0.3, random_state=42)\n",
    "X_test, X_val, y_test, y_val = train_test_split(X_temp, y_temp, test_size=0.5, random_state=42)\n"
   ],
   "outputs": [],
   "execution_count": null
  },
  {
   "metadata": {},
   "cell_type": "code",
   "source": [
    "# Find the amount of classes that are present\n",
    "num_labels = len(data.iloc[0, :])-1"
   ],
   "outputs": [],
   "execution_count": null
  },
  {
   "metadata": {},
   "cell_type": "code",
   "source": [
    "# Information about the dataset\n",
    "print(\"Train size: \", len(X_train))\n",
    "print(\"Validation size: \", len(X_val))\n",
    "print(\"Test size: \", len(X_test))"
   ],
   "outputs": [],
   "execution_count": null
  },
  {
   "metadata": {},
   "cell_type": "markdown",
   "source": "# Define Dataset Class"
  },
  {
   "metadata": {},
   "cell_type": "code",
   "source": [
    "# Adjusted dataset class for the UC Merced dataset\n",
    "class UCMercedDataset(Dataset):\n",
    "    def __init__(self, image_names, labels, image_dir, transform=None):\n",
    "        self.image_names = image_names\n",
    "        self.labels = labels\n",
    "        self.image_dir = image_dir\n",
    "        self.transform = transform\n",
    "\n",
    "    def __len__(self):\n",
    "        return len(self.image_names)\n",
    "\n",
    "    def __getitem__(self, idx):\n",
    "        base_filename = self.image_names.iloc[idx]\n",
    "        subfolder = base_filename[:-2]     # 'airplane22' -> 'airplane'\n",
    "\n",
    "        img_path = os.path.join(\"Images\", subfolder, f\"{base_filename}.tif\")\n",
    "\n",
    "        if not os.path.exists(img_path):\n",
    "            raise FileNotFoundError(f\"Image not found at: {img_path}\")\n",
    "\n",
    "        image = datasets.folder.default_loader(img_path)\n",
    "        label = torch.tensor(self.labels.iloc[idx].values, dtype=torch.float32)\n",
    "\n",
    "        if self.transform:\n",
    "            image = self.transform(image)\n",
    "\n",
    "        return image, label\n"
   ],
   "outputs": [],
   "execution_count": null
  },
  {
   "metadata": {},
   "cell_type": "markdown",
   "source": "# Preprocess Images"
  },
  {
   "metadata": {},
   "cell_type": "code",
   "source": [
    "# Transformations on the UC Merced dataset so that they can be used in the model\n",
    "transform = transforms.Compose([\n",
    "    transforms.Resize((224, 224)),\n",
    "    transforms.ToTensor(),\n",
    "    transforms.Normalize(mean=[0.485, 0.456, 0.406], std=[0.229, 0.224, 0.225])\n",
    "])\n",
    "\n",
    "# split it up into train, val, and test\n",
    "train_dataset = UCMercedDataset(X_train, y_train, 'Images', transform)\n",
    "val_dataset = UCMercedDataset(X_val, y_val, 'Images', transform)\n",
    "test_dataset = UCMercedDataset(X_test, y_test, 'Images', transform)\n",
    "\n",
    "train_loader = DataLoader(train_dataset, batch_size=16, shuffle=True)\n",
    "val_loader = DataLoader(val_dataset, batch_size=16, shuffle=False)\n",
    "test_loader = DataLoader(test_dataset, batch_size=16, shuffle=False)\n"
   ],
   "outputs": [],
   "execution_count": null
  },
  {
   "metadata": {},
   "cell_type": "markdown",
   "source": "# Load and Adjust Pretrained Models"
  },
  {
   "metadata": {},
   "cell_type": "code",
   "source": [
    "# Load DINO v2 ResNet 50\n",
    "resnet50 = torch.hub.load('facebookresearch/dino:main', 'dino_resnet50')\n",
    "\n",
    "# Load DINO v2 ViT-S/8\n",
    "vits8 = torch.hub.load('facebookresearch/dino:main', 'dino_vits8')"
   ],
   "outputs": [],
   "execution_count": null
  },
  {
   "metadata": {},
   "cell_type": "code",
   "source": [
    "# Change the Dino model to multi-label classification\n",
    "class DinoResNetMultiLabel(nn.Module):\n",
    "    def __init__(self, base_model, num_labels):\n",
    "        super().__init__()\n",
    "        self.backbone = nn.Sequential(*list(base_model.children())[:-1])  # remove final classification layer\n",
    "        self.classifier = nn.Linear(2048, num_labels)  # 2048 is the output feature dim of ResNet50\n",
    "\n",
    "    def forward(self, x):\n",
    "        x = self.backbone(x)\n",
    "        x = torch.flatten(x, 1)\n",
    "        x = self.classifier(x)\n",
    "        return x"
   ],
   "outputs": [],
   "execution_count": null
  },
  {
   "metadata": {},
   "cell_type": "code",
   "source": [
    "# Change the ViT model to multi-label classification\n",
    "class DinoViTMultiLabel(nn.Module):\n",
    "    def __init__(self, base_model, num_labels):\n",
    "        super().__init__()\n",
    "        self.backbone = base_model\n",
    "        self.classifier = nn.Linear(base_model.embed_dim, num_labels)  # embed_dim is the output feature dim of ViT-S/8\n",
    "\n",
    "    def forward(self, x):\n",
    "        features = self.backbone(x)\n",
    "        return self.classifier(features)"
   ],
   "outputs": [],
   "execution_count": null
  },
  {
   "metadata": {},
   "cell_type": "markdown",
   "source": "## Prepare for training"
  },
  {
   "metadata": {},
   "cell_type": "code",
   "source": [
    "# Model setup\n",
    "resnet_model = DinoResNetMultiLabel(resnet50, num_labels).to(device)\n",
    "vits_model = DinoViTMultiLabel(vits8, num_labels).to(device)\n",
    "\n",
    "# Loss and optimizers\n",
    "criterion = nn.BCEWithLogitsLoss()\n",
    "resnet_optimizer = torch.optim.Adam(resnet_model.parameters(), lr=1e-4)\n",
    "vits_optimizer = torch.optim.Adam(vits_model.parameters(), lr=1e-4)"
   ],
   "outputs": [],
   "execution_count": null
  },
  {
   "metadata": {},
   "cell_type": "markdown",
   "source": "# Define Training Loop"
  },
  {
   "metadata": {},
   "cell_type": "code",
   "source": [
    "# Training function\n",
    "def train_model(model, optimizer, logger, name):\n",
    "    for epoch in range(10):\n",
    "        model.train()\n",
    "        total_loss = 0\n",
    "\n",
    "        for images, labels in train_loader:\n",
    "            images, labels = images.to(device), labels.to(device)\n",
    "\n",
    "            optimizer.zero_grad()\n",
    "            outputs = model(images)\n",
    "            loss = criterion(outputs, labels)\n",
    "            loss.backward()\n",
    "            optimizer.step()\n",
    "\n",
    "            total_loss += loss.item()\n",
    "\n",
    "        avg_loss = total_loss / len(train_loader)\n",
    "\n",
    "        #Run validation and get metrics\n",
    "        val_metrics = validate_model(model, name)\n",
    "\n",
    "        #Log metrics\n",
    "        logger.log({\n",
    "            \"train_loss\": avg_loss,\n",
    "            **val_metrics\n",
    "        }, step=epoch)\n",
    "\n",
    "    logger.finish()\n",
    "\n",
    "# Validation function\n",
    "def validate_model(model, name):\n",
    "    model.eval()\n",
    "    all_preds = []\n",
    "    all_probs = []\n",
    "    all_targets = []\n",
    "\n",
    "    with torch.no_grad():\n",
    "        for images, labels in val_loader:\n",
    "            images, labels = images.to(device), labels.to(device)\n",
    "            outputs = torch.sigmoid(model(images))  # probs\n",
    "            preds = (outputs > 0.5).int()\n",
    "\n",
    "            all_probs.append(outputs.cpu())\n",
    "            all_preds.append(preds.cpu())\n",
    "            all_targets.append(labels.cpu().int())\n",
    "\n",
    "    probs = torch.cat(all_probs)\n",
    "    preds = torch.cat(all_preds)\n",
    "    targets = torch.cat(all_targets)\n",
    "\n",
    "    f1_macro = f1_score(targets, preds, average=\"macro\", zero_division=0)\n",
    "    hamming = hamming_loss(targets, preds)\n",
    "    accuracy = accuracy_score(targets, preds)\n",
    "    precisions = precision_score(targets, preds, average=\"macro\", zero_division=0)\n",
    "    recalls = recall_score(targets, preds, average=\"macro\", zero_division=0)\n",
    "\n",
    "    print(f\"[{name}] Validation F1 (macro): {f1_macro:.4f}\")\n",
    "\n",
    "    return {\n",
    "        \"f1_macro\": f1_macro,\n",
    "        \"hamming_loss\": hamming,\n",
    "        \"accuracy\": accuracy,\n",
    "        \"precision\": precisions,\n",
    "        \"recall\": recalls,\n",
    "    }"
   ],
   "outputs": [],
   "execution_count": null
  },
  {
   "metadata": {},
   "cell_type": "markdown",
   "source": "# Train and Evaluate Models"
  },
  {
   "metadata": {},
   "cell_type": "code",
   "source": [
    "# Train ResNet 50\n",
    "print(\"Training ResNet 50...\")\n",
    "train_model(resnet_model, resnet_optimizer, run, name=\"ResNet50\")"
   ],
   "outputs": [],
   "execution_count": null
  },
  {
   "metadata": {},
   "cell_type": "code",
   "source": [
    "# Train ViT-S/8\n",
    "print(\"Training ViT-S/8...\")\n",
    "train_model(vits_model, vits_optimizer, run, name=\"ViT-S/8\")"
   ],
   "outputs": [],
   "execution_count": null
  },
  {
   "metadata": {},
   "cell_type": "code",
   "source": [
    "# Save the trained models\n",
    "torch.save(resnet_model.state_dict(), \"resnet50_trained.pth\")\n",
    "torch.save(vits_model.state_dict(), \"vit_s8_trained.pth\")"
   ],
   "outputs": [],
   "execution_count": null
  },
  {
   "metadata": {},
   "cell_type": "markdown",
   "source": "## Test the Models on the test set"
  },
  {
   "metadata": {},
   "cell_type": "code",
   "source": [
    "# Load the trained models\n",
    "resnet_model.load_state_dict(torch.load(\"resnet50_trained.pth\"))\n",
    "vits_model.load_state_dict(torch.load(\"vit_s8_trained.pth\"))\n",
    "resnet_model.eval()\n",
    "vits_model.eval()\n",
    "\n",
    "# Re insure that the models are on the GPU\n",
    "resnet_model.to(device)\n",
    "vits_model.to(device)"
   ],
   "outputs": [],
   "execution_count": null
  },
  {
   "metadata": {},
   "cell_type": "code",
   "source": [
    "# Get the label names from the data\n",
    "label_names = list(y.columns)"
   ],
   "outputs": [],
   "execution_count": null
  },
  {
   "metadata": {},
   "cell_type": "code",
   "source": [
    "# get 5 random images from the test set to visualize\n",
    "def get_random_samples(data_loader, num_samples=5):\n",
    "    all_images = []\n",
    "    all_labels = []\n",
    "    for images, labels in data_loader:\n",
    "        for i in range(len(images)):\n",
    "            all_images.append(images[i])\n",
    "            all_labels.append(labels[i])\n",
    "    indices = random.sample(range(len(all_images)), num_samples)\n",
    "    return [all_images[i] for i in indices], [all_labels[i] for i in indices]"
   ],
   "outputs": [],
   "execution_count": null
  },
  {
   "metadata": {},
   "cell_type": "code",
   "source": [
    "# Test evaluation function\n",
    "def test_model(model, name):\n",
    "    model.eval()\n",
    "    all_preds = []\n",
    "    all_targets = []\n",
    "\n",
    "    with torch.no_grad():\n",
    "        for images, labels in test_loader:\n",
    "            images, labels = images.to(device), labels.to(device)\n",
    "            outputs = torch.sigmoid(model(images))\n",
    "            preds = (outputs > 0.5).int()\n",
    "\n",
    "            all_preds.append(preds.cpu())\n",
    "            all_targets.append(labels.cpu().int())\n",
    "\n",
    "    preds = torch.cat(all_preds)\n",
    "    targets = torch.cat(all_targets)\n",
    "\n",
    "    f1 = f1_score(targets, preds, average=\"macro\", zero_division=0)\n",
    "    precision = precision_score(targets, preds, average=\"macro\", zero_division=0)\n",
    "    recall = recall_score(targets, preds, average=\"macro\", zero_division=0)\n",
    "    accuracy = accuracy_score(targets, preds)\n",
    "    print(f\"[{name}] Test F1 score: {f1:.4f}\\n\"\n",
    "          f\"Test Precision: {precision:.4f}\\n\"\n",
    "          f\"Test Recall: {recall:.4f}\\n\"\n",
    "          f\"Test Accuracy: {accuracy:.4f}\\n\")"
   ],
   "outputs": [],
   "execution_count": null
  },
  {
   "metadata": {},
   "cell_type": "code",
   "source": [
    "# Test the models\n",
    "test_model(resnet_model, \"ResNet50\")\n",
    "test_model(vits_model, \"ViT-S/8\")"
   ],
   "outputs": [],
   "execution_count": null
  },
  {
   "metadata": {},
   "cell_type": "code",
   "source": [
    "# Run inference and visualize results\n",
    "mean = torch.tensor([0.485, 0.456, 0.406]).view(3,1,1)\n",
    "std = torch.tensor([0.229, 0.224, 0.225]).view(3,1,1)\n",
    "\n",
    "def unnormalize(img_tensor):\n",
    "    return (img_tensor * std) + mean\n",
    "\n",
    "def show_predictions(model, model_name):\n",
    "    images, labels = get_random_samples(test_loader)\n",
    "\n",
    "    fig, axs = plt.subplots(1, len(images), figsize=(20, 5))\n",
    "    for i, (img, true_label) in enumerate(zip(images, labels)):\n",
    "        img_input = img.unsqueeze(0).to(device)\n",
    "        with torch.no_grad():\n",
    "            output = torch.sigmoid(model(img_input))\n",
    "            pred_label = (output > 0.5).int().squeeze().cpu()\n",
    "\n",
    "        true_label = true_label.int()\n",
    "        true_classes = [label_names[j] for j in range(len(true_label)) if true_label[j] == 1]\n",
    "        pred_classes = [label_names[j] for j in range(len(pred_label)) if pred_label[j] == 1]\n",
    "\n",
    "        axs[i].imshow(unnormalize(img).permute(1, 2, 0).cpu().clip(0, 1))\n",
    "        axs[i].set_title(f\"Actual:\\n{', '.join(true_classes)}\\n\\nPredicted:\\n{', '.join(pred_classes)}\", fontsize=9)\n",
    "        axs[i].axis(\"off\")\n",
    "\n",
    "    plt.suptitle(f\"Some {model_name} Predictions\", fontsize=14, y=1.05)\n",
    "    plt.tight_layout()\n",
    "    plt.show()"
   ],
   "outputs": [],
   "execution_count": null
  },
  {
   "metadata": {},
   "cell_type": "code",
   "source": [
    "# Run for both models\n",
    "show_predictions(resnet_model, \"ResNet50\")\n",
    "show_predictions(vits_model, \"ViT-S/8\")"
   ],
   "outputs": [],
   "execution_count": null
  }
 ]
}
